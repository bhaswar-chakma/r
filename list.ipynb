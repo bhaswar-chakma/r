{
 "cells": [
  {
   "cell_type": "markdown",
   "id": "d4a12ee7-99eb-442d-9823-1700bb6ec529",
   "metadata": {},
   "source": [
    "# List"
   ]
  },
  {
   "cell_type": "markdown",
   "id": "786752ca-bf19-42a1-ad94-d54274c0df94",
   "metadata": {},
   "source": [
    "## Named List"
   ]
  },
  {
   "cell_type": "code",
   "execution_count": 1,
   "id": "c14a8e7e-be88-402b-bb51-6f6032ddbde0",
   "metadata": {},
   "outputs": [],
   "source": [
    "list1 <- list(name = \"Joe\", salary = 55000, union = TRUE)"
   ]
  },
  {
   "cell_type": "code",
   "execution_count": 2,
   "id": "50becd76-9e39-40f9-aa27-f8c75b165fab",
   "metadata": {},
   "outputs": [
    {
     "data": {
      "text/html": [
       "<dl>\n",
       "\t<dt>$name</dt>\n",
       "\t\t<dd>'Joe'</dd>\n",
       "\t<dt>$salary</dt>\n",
       "\t\t<dd>55000</dd>\n",
       "\t<dt>$union</dt>\n",
       "\t\t<dd>TRUE</dd>\n",
       "</dl>\n"
      ],
      "text/latex": [
       "\\begin{description}\n",
       "\\item[\\$name] 'Joe'\n",
       "\\item[\\$salary] 55000\n",
       "\\item[\\$union] TRUE\n",
       "\\end{description}\n"
      ],
      "text/markdown": [
       "$name\n",
       ":   'Joe'\n",
       "$salary\n",
       ":   55000\n",
       "$union\n",
       ":   TRUE\n",
       "\n",
       "\n"
      ],
      "text/plain": [
       "$name\n",
       "[1] \"Joe\"\n",
       "\n",
       "$salary\n",
       "[1] 55000\n",
       "\n",
       "$union\n",
       "[1] TRUE\n"
      ]
     },
     "metadata": {},
     "output_type": "display_data"
    }
   ],
   "source": [
    "list1"
   ]
  },
  {
   "cell_type": "markdown",
   "id": "c9bd3d1a-30f4-40bb-9e1a-91837f796549",
   "metadata": {},
   "source": [
    "## Without Name"
   ]
  },
  {
   "cell_type": "code",
   "execution_count": 3,
   "id": "c2634e36-996b-4aae-bd48-4dafc0c268af",
   "metadata": {},
   "outputs": [],
   "source": [
    "list2 <- list(\"Joe\", 55000, TRUE)"
   ]
  },
  {
   "cell_type": "code",
   "execution_count": 4,
   "id": "60c5b436-119a-4f01-a094-515c782e0343",
   "metadata": {},
   "outputs": [
    {
     "data": {
      "text/html": [
       "<ol>\n",
       "\t<li>'Joe'</li>\n",
       "\t<li>55000</li>\n",
       "\t<li>TRUE</li>\n",
       "</ol>\n"
      ],
      "text/latex": [
       "\\begin{enumerate}\n",
       "\\item 'Joe'\n",
       "\\item 55000\n",
       "\\item TRUE\n",
       "\\end{enumerate}\n"
      ],
      "text/markdown": [
       "1. 'Joe'\n",
       "2. 55000\n",
       "3. TRUE\n",
       "\n",
       "\n"
      ],
      "text/plain": [
       "[[1]]\n",
       "[1] \"Joe\"\n",
       "\n",
       "[[2]]\n",
       "[1] 55000\n",
       "\n",
       "[[3]]\n",
       "[1] TRUE\n"
      ]
     },
     "metadata": {},
     "output_type": "display_data"
    }
   ],
   "source": [
    "list2"
   ]
  },
  {
   "cell_type": "markdown",
   "id": "46619431-54bd-422a-9133-09f4d5399490",
   "metadata": {},
   "source": [
    "## Extraction"
   ]
  },
  {
   "cell_type": "code",
   "execution_count": 5,
   "id": "b9d4791b-fcfe-41e0-bb35-0114c8d2266c",
   "metadata": {},
   "outputs": [
    {
     "data": {
      "text/html": [
       "55000"
      ],
      "text/latex": [
       "55000"
      ],
      "text/markdown": [
       "55000"
      ],
      "text/plain": [
       "[1] 55000"
      ]
     },
     "metadata": {},
     "output_type": "display_data"
    }
   ],
   "source": [
    "# using name op1\n",
    "list1$salary"
   ]
  },
  {
   "cell_type": "code",
   "execution_count": 6,
   "id": "475ebb0e-eb13-4b78-a981-da887e72c2a7",
   "metadata": {},
   "outputs": [
    {
     "data": {
      "text/html": [
       "55000"
      ],
      "text/latex": [
       "55000"
      ],
      "text/markdown": [
       "55000"
      ],
      "text/plain": [
       "[1] 55000"
      ]
     },
     "metadata": {},
     "output_type": "display_data"
    }
   ],
   "source": [
    "# using name op2\n",
    "list1[[\"salary\"]]# quotation is required"
   ]
  },
  {
   "cell_type": "code",
   "execution_count": 7,
   "id": "fa31685e-9b97-40b7-8ec8-d194a0cca23b",
   "metadata": {},
   "outputs": [
    {
     "data": {
      "text/html": [
       "<ol>\n",
       "\t<li>55000</li>\n",
       "</ol>\n"
      ],
      "text/latex": [
       "\\begin{enumerate}\n",
       "\\item 55000\n",
       "\\end{enumerate}\n"
      ],
      "text/markdown": [
       "1. 55000\n",
       "\n",
       "\n"
      ],
      "text/plain": [
       "[[1]]\n",
       "[1] 55000\n"
      ]
     },
     "metadata": {},
     "output_type": "display_data"
    }
   ],
   "source": [
    "# using position\n",
    "list2[2]"
   ]
  },
  {
   "cell_type": "markdown",
   "id": "a2a1b900-d223-4726-a078-e9c0d0ef1789",
   "metadata": {},
   "source": [
    "# Brackets\n",
    "## Single brackets always return a list"
   ]
  },
  {
   "cell_type": "code",
   "execution_count": 8,
   "id": "94485397-6dd1-4396-85b7-ab4e3520951a",
   "metadata": {},
   "outputs": [
    {
     "data": {
      "text/html": [
       "'list'"
      ],
      "text/latex": [
       "'list'"
      ],
      "text/markdown": [
       "'list'"
      ],
      "text/plain": [
       "[1] \"list\""
      ]
     },
     "metadata": {},
     "output_type": "display_data"
    }
   ],
   "source": [
    "class(list1[2])"
   ]
  },
  {
   "cell_type": "code",
   "execution_count": 9,
   "id": "1765f9a4-5a1c-461c-a2eb-449f99bcfe54",
   "metadata": {},
   "outputs": [
    {
     "name": "stdout",
     "output_type": "stream",
     "text": [
      "List of 1\n",
      " $ salary: num 55000\n"
     ]
    }
   ],
   "source": [
    "str(list1[2])"
   ]
  },
  {
   "cell_type": "markdown",
   "id": "0ad022ec-f7eb-4aa8-b5b5-d2955ec8cde3",
   "metadata": {},
   "source": [
    "## `[[]]` reference a single component"
   ]
  },
  {
   "cell_type": "code",
   "execution_count": 10,
   "id": "bc1ed3c9-cb49-4ce2-99db-1123710441c9",
   "metadata": {},
   "outputs": [
    {
     "ename": "ERROR",
     "evalue": "Error in list1[[1:2]]: subscript out of bounds\n",
     "output_type": "error",
     "traceback": [
      "Error in list1[[1:2]]: subscript out of bounds\nTraceback:\n"
     ]
    }
   ],
   "source": [
    "list1[[1:2]] # error"
   ]
  },
  {
   "cell_type": "code",
   "execution_count": null,
   "id": "8c8d39f3-f141-4d47-b212-0c427648612d",
   "metadata": {},
   "outputs": [],
   "source": [
    "list1[[2]]"
   ]
  },
  {
   "cell_type": "code",
   "execution_count": null,
   "id": "15a25098-d43c-4af6-a489-661ebd7c4fc3",
   "metadata": {},
   "outputs": [],
   "source": [
    "class(list1[[2]]) # returns a vector"
   ]
  },
  {
   "cell_type": "markdown",
   "id": "402e9e94-c42b-4335-9a88-d4def38571e4",
   "metadata": {},
   "source": [
    "# Add Elements"
   ]
  },
  {
   "cell_type": "code",
   "execution_count": null,
   "id": "7c5c6fb1-77b1-4ee9-8ccd-5c20ac9f8b41",
   "metadata": {},
   "outputs": [],
   "source": [
    "list3 <- list(\"hello\")"
   ]
  },
  {
   "cell_type": "code",
   "execution_count": null,
   "id": "bae98206-c25e-44f8-a129-0bdd8d08d3f1",
   "metadata": {},
   "outputs": [],
   "source": [
    "list3"
   ]
  },
  {
   "cell_type": "code",
   "execution_count": null,
   "id": "ea258da7-a837-4728-b46d-f0c5aa12c255",
   "metadata": {},
   "outputs": [],
   "source": [
    "# add single element using []\n",
    "list3[[2]] <- \"hola\" "
   ]
  },
  {
   "cell_type": "code",
   "execution_count": null,
   "id": "fef1e751-7856-4316-94d9-e152707eb8ae",
   "metadata": {},
   "outputs": [],
   "source": [
    "list3"
   ]
  },
  {
   "cell_type": "code",
   "execution_count": null,
   "id": "9e207267-711a-44f8-a564-5a96c9cb6963",
   "metadata": {},
   "outputs": [],
   "source": [
    "# add single element using [[]]\n",
    "list3[3] <- \"ola\""
   ]
  },
  {
   "cell_type": "code",
   "execution_count": null,
   "id": "6a7b28ca-af20-4b9b-bcdb-aa0b1aeaa46a",
   "metadata": {},
   "outputs": [],
   "source": [
    "list3"
   ]
  },
  {
   "cell_type": "code",
   "execution_count": null,
   "id": "c127711b-fd1e-480a-822f-cb179866c379",
   "metadata": {},
   "outputs": [],
   "source": [
    "# add multiple elements\n",
    "list3[4:6] <- c(\"four\", \"five\", \"six\") # only single brackets only\n",
    "list3"
   ]
  },
  {
   "cell_type": "markdown",
   "id": "4c70030b-ded9-4724-acfd-70d3935ca6f5",
   "metadata": {},
   "source": [
    "# Delete Elements"
   ]
  },
  {
   "cell_type": "code",
   "execution_count": null,
   "id": "1308a346-9e92-4e54-818c-f99ed5eaa5b9",
   "metadata": {},
   "outputs": [],
   "source": [
    "list4 <- list(\"first_name\" = \"Joe\", \"last_name\" = \"Satriani\")\n",
    "list4"
   ]
  },
  {
   "cell_type": "code",
   "execution_count": null,
   "id": "532042a2-819c-4430-9bd8-515b5958f244",
   "metadata": {},
   "outputs": [],
   "source": [
    "list4[\"first_name\"] <- NULL\n",
    "list4"
   ]
  },
  {
   "cell_type": "code",
   "execution_count": null,
   "id": "b611125c-7cc8-4cb4-ad1d-75a3cc60c757",
   "metadata": {},
   "outputs": [],
   "source": [
    "str(list4)"
   ]
  },
  {
   "cell_type": "code",
   "execution_count": null,
   "id": "a90084c7-989f-4f79-97ac-4aa6d46e715a",
   "metadata": {},
   "outputs": [],
   "source": [
    "list4[1] <- NULL"
   ]
  },
  {
   "cell_type": "code",
   "execution_count": null,
   "id": "12179999-d1fd-40b7-9d15-95de7b4b17b5",
   "metadata": {},
   "outputs": [],
   "source": [
    "str(list4)"
   ]
  },
  {
   "cell_type": "code",
   "execution_count": null,
   "id": "065aaa77-18e3-4911-af24-f83978695a2b",
   "metadata": {},
   "outputs": [],
   "source": [
    "list1"
   ]
  },
  {
   "cell_type": "markdown",
   "id": "2092d374-62b7-4726-bcab-285aa8eb0d56",
   "metadata": {},
   "source": [
    "# Create list with `vector()`"
   ]
  },
  {
   "cell_type": "code",
   "execution_count": null,
   "id": "a1a499ed-e22e-4bda-ba0b-c7ef7d26609c",
   "metadata": {},
   "outputs": [],
   "source": [
    "# empty list\n",
    "list5 <- vector(mode = \"list\")\n",
    "class(list5)"
   ]
  },
  {
   "cell_type": "code",
   "execution_count": null,
   "id": "3dd0fea2-d078-43e4-88cd-8fd0523d9cc6",
   "metadata": {},
   "outputs": [],
   "source": [
    "length(list5)"
   ]
  },
  {
   "cell_type": "code",
   "execution_count": null,
   "id": "ffe0ba45-d59e-43ab-9d7a-bc71fe7d6d75",
   "metadata": {},
   "outputs": [],
   "source": [
    "list5[[\"name\"]] <- \"Joe\" # single brackets also work"
   ]
  },
  {
   "cell_type": "code",
   "execution_count": null,
   "id": "2e568974-5b37-4b32-87d8-2fc1beafbf45",
   "metadata": {},
   "outputs": [],
   "source": [
    "list5"
   ]
  },
  {
   "cell_type": "code",
   "execution_count": null,
   "id": "fe74ebf1-e309-4e59-ace5-cd007499f9bd",
   "metadata": {},
   "outputs": [],
   "source": []
  }
 ],
 "metadata": {
  "kernelspec": {
   "display_name": "R",
   "language": "R",
   "name": "ir"
  },
  "language_info": {
   "codemirror_mode": "r",
   "file_extension": ".r",
   "mimetype": "text/x-r-source",
   "name": "R",
   "pygments_lexer": "r",
   "version": "4.1.3"
  }
 },
 "nbformat": 4,
 "nbformat_minor": 5
}
